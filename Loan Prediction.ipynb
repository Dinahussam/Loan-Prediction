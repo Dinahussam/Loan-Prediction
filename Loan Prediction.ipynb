{
 "cells": [
  {
   "cell_type": "markdown",
   "id": "b4e93ff1",
   "metadata": {
    "id": "iQcRX12VnJA0",
    "papermill": {
     "duration": 0.011847,
     "end_time": "2022-08-23T17:57:41.756830",
     "exception": false,
     "start_time": "2022-08-23T17:57:41.744983",
     "status": "completed"
    },
    "tags": []
   },
   "source": [
    "# Importing libraries"
   ]
  },
  {
   "cell_type": "code",
   "execution_count": 1,
   "id": "0c39de7a",
   "metadata": {
    "execution": {
     "iopub.execute_input": "2022-08-23T17:57:41.784224Z",
     "iopub.status.busy": "2022-08-23T17:57:41.783139Z",
     "iopub.status.idle": "2022-08-23T17:57:43.405659Z",
     "shell.execute_reply": "2022-08-23T17:57:43.404636Z"
    },
    "id": "OudDlQbYnJA0",
    "papermill": {
     "duration": 1.63952,
     "end_time": "2022-08-23T17:57:43.408614",
     "exception": false,
     "start_time": "2022-08-23T17:57:41.769094",
     "status": "completed"
    },
    "tags": []
   },
   "outputs": [],
   "source": [
    "import numpy as np\n",
    "import pandas as pd\n",
    "import seaborn as sns\n",
    "import matplotlib as plt\n",
    "from sklearn.model_selection import train_test_split\n",
    "from sklearn.preprocessing import StandardScaler\n",
    "from sklearn import svm\n",
    "from sklearn.svm import SVC\n",
    "from sklearn.linear_model import LogisticRegression\n",
    "from sklearn.tree import DecisionTreeClassifier\n",
    "from sklearn.metrics import accuracy_score\n",
    "from sklearn.neighbors import KNeighborsClassifier"
   ]
  },
  {
   "cell_type": "code",
   "execution_count": 2,
   "id": "d66cc6a6",
   "metadata": {
    "execution": {
     "iopub.execute_input": "2022-08-23T17:57:43.435542Z",
     "iopub.status.busy": "2022-08-23T17:57:43.435140Z",
     "iopub.status.idle": "2022-08-23T17:57:43.476959Z",
     "shell.execute_reply": "2022-08-23T17:57:43.475653Z"
    },
    "id": "xYM4Qq6EVxyo",
    "outputId": "efd9cbef-220d-48e0-8583-6e1f647045b2",
    "papermill": {
     "duration": 0.058018,
     "end_time": "2022-08-23T17:57:43.479582",
     "exception": false,
     "start_time": "2022-08-23T17:57:43.421564",
     "status": "completed"
    },
    "tags": []
   },
   "outputs": [
    {
     "data": {
      "text/html": [
       "<div>\n",
       "<style scoped>\n",
       "    .dataframe tbody tr th:only-of-type {\n",
       "        vertical-align: middle;\n",
       "    }\n",
       "\n",
       "    .dataframe tbody tr th {\n",
       "        vertical-align: top;\n",
       "    }\n",
       "\n",
       "    .dataframe thead th {\n",
       "        text-align: right;\n",
       "    }\n",
       "</style>\n",
       "<table border=\"1\" class=\"dataframe\">\n",
       "  <thead>\n",
       "    <tr style=\"text-align: right;\">\n",
       "      <th></th>\n",
       "      <th>Loan_ID</th>\n",
       "      <th>Gender</th>\n",
       "      <th>Married</th>\n",
       "      <th>Dependents</th>\n",
       "      <th>Education</th>\n",
       "      <th>Self_Employed</th>\n",
       "      <th>ApplicantIncome</th>\n",
       "      <th>CoapplicantIncome</th>\n",
       "      <th>LoanAmount</th>\n",
       "      <th>Loan_Amount_Term</th>\n",
       "      <th>Credit_History</th>\n",
       "      <th>Property_Area</th>\n",
       "      <th>Loan_Status</th>\n",
       "    </tr>\n",
       "  </thead>\n",
       "  <tbody>\n",
       "    <tr>\n",
       "      <th>0</th>\n",
       "      <td>LP001002</td>\n",
       "      <td>Male</td>\n",
       "      <td>No</td>\n",
       "      <td>0</td>\n",
       "      <td>Graduate</td>\n",
       "      <td>No</td>\n",
       "      <td>5849</td>\n",
       "      <td>0.0</td>\n",
       "      <td>NaN</td>\n",
       "      <td>360.0</td>\n",
       "      <td>1.0</td>\n",
       "      <td>Urban</td>\n",
       "      <td>Y</td>\n",
       "    </tr>\n",
       "    <tr>\n",
       "      <th>1</th>\n",
       "      <td>LP001003</td>\n",
       "      <td>Male</td>\n",
       "      <td>Yes</td>\n",
       "      <td>1</td>\n",
       "      <td>Graduate</td>\n",
       "      <td>No</td>\n",
       "      <td>4583</td>\n",
       "      <td>1508.0</td>\n",
       "      <td>128.0</td>\n",
       "      <td>360.0</td>\n",
       "      <td>1.0</td>\n",
       "      <td>Rural</td>\n",
       "      <td>N</td>\n",
       "    </tr>\n",
       "    <tr>\n",
       "      <th>2</th>\n",
       "      <td>LP001005</td>\n",
       "      <td>Male</td>\n",
       "      <td>Yes</td>\n",
       "      <td>0</td>\n",
       "      <td>Graduate</td>\n",
       "      <td>Yes</td>\n",
       "      <td>3000</td>\n",
       "      <td>0.0</td>\n",
       "      <td>66.0</td>\n",
       "      <td>360.0</td>\n",
       "      <td>1.0</td>\n",
       "      <td>Urban</td>\n",
       "      <td>Y</td>\n",
       "    </tr>\n",
       "    <tr>\n",
       "      <th>3</th>\n",
       "      <td>LP001006</td>\n",
       "      <td>Male</td>\n",
       "      <td>Yes</td>\n",
       "      <td>0</td>\n",
       "      <td>Not Graduate</td>\n",
       "      <td>No</td>\n",
       "      <td>2583</td>\n",
       "      <td>2358.0</td>\n",
       "      <td>120.0</td>\n",
       "      <td>360.0</td>\n",
       "      <td>1.0</td>\n",
       "      <td>Urban</td>\n",
       "      <td>Y</td>\n",
       "    </tr>\n",
       "    <tr>\n",
       "      <th>4</th>\n",
       "      <td>LP001008</td>\n",
       "      <td>Male</td>\n",
       "      <td>No</td>\n",
       "      <td>0</td>\n",
       "      <td>Graduate</td>\n",
       "      <td>No</td>\n",
       "      <td>6000</td>\n",
       "      <td>0.0</td>\n",
       "      <td>141.0</td>\n",
       "      <td>360.0</td>\n",
       "      <td>1.0</td>\n",
       "      <td>Urban</td>\n",
       "      <td>Y</td>\n",
       "    </tr>\n",
       "  </tbody>\n",
       "</table>\n",
       "</div>"
      ],
      "text/plain": [
       "    Loan_ID Gender Married Dependents     Education Self_Employed  \\\n",
       "0  LP001002   Male      No          0      Graduate            No   \n",
       "1  LP001003   Male     Yes          1      Graduate            No   \n",
       "2  LP001005   Male     Yes          0      Graduate           Yes   \n",
       "3  LP001006   Male     Yes          0  Not Graduate            No   \n",
       "4  LP001008   Male      No          0      Graduate            No   \n",
       "\n",
       "   ApplicantIncome  CoapplicantIncome  LoanAmount  Loan_Amount_Term  \\\n",
       "0             5849                0.0         NaN             360.0   \n",
       "1             4583             1508.0       128.0             360.0   \n",
       "2             3000                0.0        66.0             360.0   \n",
       "3             2583             2358.0       120.0             360.0   \n",
       "4             6000                0.0       141.0             360.0   \n",
       "\n",
       "   Credit_History Property_Area Loan_Status  \n",
       "0             1.0         Urban           Y  \n",
       "1             1.0         Rural           N  \n",
       "2             1.0         Urban           Y  \n",
       "3             1.0         Urban           Y  \n",
       "4             1.0         Urban           Y  "
      ]
     },
     "execution_count": 2,
     "metadata": {},
     "output_type": "execute_result"
    }
   ],
   "source": [
    "data=pd.read_csv('Loan Prediction.csv')\n",
    "data.head()"
   ]
  },
  {
   "cell_type": "markdown",
   "id": "ea570792",
   "metadata": {
    "id": "VQnfjuB6W8XE",
    "papermill": {
     "duration": 0.012059,
     "end_time": "2022-08-23T17:57:43.529342",
     "exception": false,
     "start_time": "2022-08-23T17:57:43.517283",
     "status": "completed"
    },
    "tags": []
   },
   "source": [
    "Cleaning Data"
   ]
  },
  {
   "cell_type": "code",
   "execution_count": 3,
   "id": "ec9e4492",
   "metadata": {
    "execution": {
     "iopub.execute_input": "2022-08-23T17:57:43.556696Z",
     "iopub.status.busy": "2022-08-23T17:57:43.555862Z",
     "iopub.status.idle": "2022-08-23T17:57:43.584029Z",
     "shell.execute_reply": "2022-08-23T17:57:43.583083Z"
    },
    "id": "TfOTLyrMlyS3",
    "outputId": "69011004-d4e6-4b0c-e429-218812213d5c",
    "papermill": {
     "duration": 0.044971,
     "end_time": "2022-08-23T17:57:43.586650",
     "exception": false,
     "start_time": "2022-08-23T17:57:43.541679",
     "status": "completed"
    },
    "tags": []
   },
   "outputs": [
    {
     "name": "stdout",
     "output_type": "stream",
     "text": [
      "<class 'pandas.core.frame.DataFrame'>\n",
      "RangeIndex: 614 entries, 0 to 613\n",
      "Data columns (total 13 columns):\n",
      " #   Column             Non-Null Count  Dtype  \n",
      "---  ------             --------------  -----  \n",
      " 0   Loan_ID            614 non-null    object \n",
      " 1   Gender             601 non-null    object \n",
      " 2   Married            611 non-null    object \n",
      " 3   Dependents         599 non-null    object \n",
      " 4   Education          614 non-null    object \n",
      " 5   Self_Employed      582 non-null    object \n",
      " 6   ApplicantIncome    614 non-null    int64  \n",
      " 7   CoapplicantIncome  614 non-null    float64\n",
      " 8   LoanAmount         592 non-null    float64\n",
      " 9   Loan_Amount_Term   600 non-null    float64\n",
      " 10  Credit_History     564 non-null    float64\n",
      " 11  Property_Area      614 non-null    object \n",
      " 12  Loan_Status        614 non-null    object \n",
      "dtypes: float64(4), int64(1), object(8)\n",
      "memory usage: 62.5+ KB\n"
     ]
    }
   ],
   "source": [
    "data.info()"
   ]
  },
  {
   "cell_type": "code",
   "execution_count": 4,
   "id": "2e2db157",
   "metadata": {
    "execution": {
     "iopub.execute_input": "2022-08-23T17:57:43.614448Z",
     "iopub.status.busy": "2022-08-23T17:57:43.613825Z",
     "iopub.status.idle": "2022-08-23T17:57:43.647167Z",
     "shell.execute_reply": "2022-08-23T17:57:43.646069Z"
    },
    "id": "xra8Gdn9nJ6O",
    "outputId": "e0d8a9cf-8c7b-4bbe-85f5-3c63daaedb3f",
    "papermill": {
     "duration": 0.050301,
     "end_time": "2022-08-23T17:57:43.649784",
     "exception": false,
     "start_time": "2022-08-23T17:57:43.599483",
     "status": "completed"
    },
    "tags": []
   },
   "outputs": [
    {
     "data": {
      "text/html": [
       "<div>\n",
       "<style scoped>\n",
       "    .dataframe tbody tr th:only-of-type {\n",
       "        vertical-align: middle;\n",
       "    }\n",
       "\n",
       "    .dataframe tbody tr th {\n",
       "        vertical-align: top;\n",
       "    }\n",
       "\n",
       "    .dataframe thead th {\n",
       "        text-align: right;\n",
       "    }\n",
       "</style>\n",
       "<table border=\"1\" class=\"dataframe\">\n",
       "  <thead>\n",
       "    <tr style=\"text-align: right;\">\n",
       "      <th></th>\n",
       "      <th>ApplicantIncome</th>\n",
       "      <th>CoapplicantIncome</th>\n",
       "      <th>LoanAmount</th>\n",
       "      <th>Loan_Amount_Term</th>\n",
       "      <th>Credit_History</th>\n",
       "    </tr>\n",
       "  </thead>\n",
       "  <tbody>\n",
       "    <tr>\n",
       "      <th>count</th>\n",
       "      <td>614.000000</td>\n",
       "      <td>614.000000</td>\n",
       "      <td>592.000000</td>\n",
       "      <td>600.00000</td>\n",
       "      <td>564.000000</td>\n",
       "    </tr>\n",
       "    <tr>\n",
       "      <th>mean</th>\n",
       "      <td>5403.459283</td>\n",
       "      <td>1621.245798</td>\n",
       "      <td>146.412162</td>\n",
       "      <td>342.00000</td>\n",
       "      <td>0.842199</td>\n",
       "    </tr>\n",
       "    <tr>\n",
       "      <th>std</th>\n",
       "      <td>6109.041673</td>\n",
       "      <td>2926.248369</td>\n",
       "      <td>85.587325</td>\n",
       "      <td>65.12041</td>\n",
       "      <td>0.364878</td>\n",
       "    </tr>\n",
       "    <tr>\n",
       "      <th>min</th>\n",
       "      <td>150.000000</td>\n",
       "      <td>0.000000</td>\n",
       "      <td>9.000000</td>\n",
       "      <td>12.00000</td>\n",
       "      <td>0.000000</td>\n",
       "    </tr>\n",
       "    <tr>\n",
       "      <th>25%</th>\n",
       "      <td>2877.500000</td>\n",
       "      <td>0.000000</td>\n",
       "      <td>100.000000</td>\n",
       "      <td>360.00000</td>\n",
       "      <td>1.000000</td>\n",
       "    </tr>\n",
       "    <tr>\n",
       "      <th>50%</th>\n",
       "      <td>3812.500000</td>\n",
       "      <td>1188.500000</td>\n",
       "      <td>128.000000</td>\n",
       "      <td>360.00000</td>\n",
       "      <td>1.000000</td>\n",
       "    </tr>\n",
       "    <tr>\n",
       "      <th>75%</th>\n",
       "      <td>5795.000000</td>\n",
       "      <td>2297.250000</td>\n",
       "      <td>168.000000</td>\n",
       "      <td>360.00000</td>\n",
       "      <td>1.000000</td>\n",
       "    </tr>\n",
       "    <tr>\n",
       "      <th>max</th>\n",
       "      <td>81000.000000</td>\n",
       "      <td>41667.000000</td>\n",
       "      <td>700.000000</td>\n",
       "      <td>480.00000</td>\n",
       "      <td>1.000000</td>\n",
       "    </tr>\n",
       "  </tbody>\n",
       "</table>\n",
       "</div>"
      ],
      "text/plain": [
       "       ApplicantIncome  CoapplicantIncome  LoanAmount  Loan_Amount_Term  \\\n",
       "count       614.000000         614.000000  592.000000         600.00000   \n",
       "mean       5403.459283        1621.245798  146.412162         342.00000   \n",
       "std        6109.041673        2926.248369   85.587325          65.12041   \n",
       "min         150.000000           0.000000    9.000000          12.00000   \n",
       "25%        2877.500000           0.000000  100.000000         360.00000   \n",
       "50%        3812.500000        1188.500000  128.000000         360.00000   \n",
       "75%        5795.000000        2297.250000  168.000000         360.00000   \n",
       "max       81000.000000       41667.000000  700.000000         480.00000   \n",
       "\n",
       "       Credit_History  \n",
       "count      564.000000  \n",
       "mean         0.842199  \n",
       "std          0.364878  \n",
       "min          0.000000  \n",
       "25%          1.000000  \n",
       "50%          1.000000  \n",
       "75%          1.000000  \n",
       "max          1.000000  "
      ]
     },
     "execution_count": 4,
     "metadata": {},
     "output_type": "execute_result"
    }
   ],
   "source": [
    "data.describe()"
   ]
  },
  {
   "cell_type": "code",
   "execution_count": 5,
   "id": "3c9afef8",
   "metadata": {
    "execution": {
     "iopub.execute_input": "2022-08-23T17:57:43.704964Z",
     "iopub.status.busy": "2022-08-23T17:57:43.704549Z",
     "iopub.status.idle": "2022-08-23T17:57:43.714775Z",
     "shell.execute_reply": "2022-08-23T17:57:43.713630Z"
    },
    "id": "P7g3Fz-BW_DD",
    "outputId": "3fbc3b69-647f-4a0e-9e9c-4e603af475f3",
    "papermill": {
     "duration": 0.026701,
     "end_time": "2022-08-23T17:57:43.716979",
     "exception": false,
     "start_time": "2022-08-23T17:57:43.690278",
     "status": "completed"
    },
    "tags": []
   },
   "outputs": [
    {
     "data": {
      "text/plain": [
       "Loan_ID               0\n",
       "Gender               13\n",
       "Married               3\n",
       "Dependents           15\n",
       "Education             0\n",
       "Self_Employed        32\n",
       "ApplicantIncome       0\n",
       "CoapplicantIncome     0\n",
       "LoanAmount           22\n",
       "Loan_Amount_Term     14\n",
       "Credit_History       50\n",
       "Property_Area         0\n",
       "Loan_Status           0\n",
       "dtype: int64"
      ]
     },
     "execution_count": 5,
     "metadata": {},
     "output_type": "execute_result"
    }
   ],
   "source": [
    "data.isnull().sum()"
   ]
  },
  {
   "cell_type": "code",
   "execution_count": 6,
   "id": "711c1c11",
   "metadata": {
    "execution": {
     "iopub.execute_input": "2022-08-23T17:57:43.745466Z",
     "iopub.status.busy": "2022-08-23T17:57:43.744808Z",
     "iopub.status.idle": "2022-08-23T17:57:43.752696Z",
     "shell.execute_reply": "2022-08-23T17:57:43.751635Z"
    },
    "id": "YEmVlBpQ0cpc",
    "outputId": "5e56880f-a033-47e6-d54b-1b508304f50a",
    "papermill": {
     "duration": 0.024827,
     "end_time": "2022-08-23T17:57:43.754964",
     "exception": false,
     "start_time": "2022-08-23T17:57:43.730137",
     "status": "completed"
    },
    "tags": []
   },
   "outputs": [
    {
     "data": {
      "text/plain": [
       "8.143322475570033"
      ]
     },
     "execution_count": 6,
     "metadata": {},
     "output_type": "execute_result"
    }
   ],
   "source": [
    "(data.Credit_History.isnull().sum()/data.shape[0])*100"
   ]
  },
  {
   "cell_type": "markdown",
   "id": "7dba000e",
   "metadata": {
    "id": "J9kx-8Ip0v3H",
    "papermill": {
     "duration": 0.012923,
     "end_time": "2022-08-23T17:57:43.780881",
     "exception": false,
     "start_time": "2022-08-23T17:57:43.767958",
     "status": "completed"
    },
    "tags": []
   },
   "source": [
    "As the maximium number of nulls which was found in Credit History column (50) percentage was less than 20% so,Dropping won't be risky "
   ]
  },
  {
   "cell_type": "code",
   "execution_count": 7,
   "id": "c507cbac",
   "metadata": {
    "execution": {
     "iopub.execute_input": "2022-08-23T17:57:43.809325Z",
     "iopub.status.busy": "2022-08-23T17:57:43.808685Z",
     "iopub.status.idle": "2022-08-23T17:57:43.816229Z",
     "shell.execute_reply": "2022-08-23T17:57:43.815245Z"
    },
    "id": "7YEzJahcuUJP",
    "papermill": {
     "duration": 0.024485,
     "end_time": "2022-08-23T17:57:43.818617",
     "exception": false,
     "start_time": "2022-08-23T17:57:43.794132",
     "status": "completed"
    },
    "tags": []
   },
   "outputs": [],
   "source": [
    "#Dropping enteries with nulls \n",
    "data=data.dropna()"
   ]
  },
  {
   "cell_type": "code",
   "execution_count": 8,
   "id": "3e49f997",
   "metadata": {
    "execution": {
     "iopub.execute_input": "2022-08-23T17:57:43.847498Z",
     "iopub.status.busy": "2022-08-23T17:57:43.846879Z",
     "iopub.status.idle": "2022-08-23T17:57:43.856271Z",
     "shell.execute_reply": "2022-08-23T17:57:43.855059Z"
    },
    "id": "mnGLgmtuu32G",
    "outputId": "aa564279-4be1-436e-bc5d-46e0527aee3c",
    "papermill": {
     "duration": 0.026788,
     "end_time": "2022-08-23T17:57:43.858449",
     "exception": false,
     "start_time": "2022-08-23T17:57:43.831661",
     "status": "completed"
    },
    "tags": []
   },
   "outputs": [
    {
     "data": {
      "text/plain": [
       "Loan_ID              0\n",
       "Gender               0\n",
       "Married              0\n",
       "Dependents           0\n",
       "Education            0\n",
       "Self_Employed        0\n",
       "ApplicantIncome      0\n",
       "CoapplicantIncome    0\n",
       "LoanAmount           0\n",
       "Loan_Amount_Term     0\n",
       "Credit_History       0\n",
       "Property_Area        0\n",
       "Loan_Status          0\n",
       "dtype: int64"
      ]
     },
     "execution_count": 8,
     "metadata": {},
     "output_type": "execute_result"
    }
   ],
   "source": [
    "data.isnull().sum()"
   ]
  },
  {
   "cell_type": "code",
   "execution_count": 9,
   "id": "193346f9",
   "metadata": {
    "execution": {
     "iopub.execute_input": "2022-08-23T17:57:43.888691Z",
     "iopub.status.busy": "2022-08-23T17:57:43.887826Z",
     "iopub.status.idle": "2022-08-23T17:57:43.893575Z",
     "shell.execute_reply": "2022-08-23T17:57:43.892774Z"
    },
    "id": "dVjIAVnT3WP3",
    "papermill": {
     "duration": 0.023755,
     "end_time": "2022-08-23T17:57:43.895939",
     "exception": false,
     "start_time": "2022-08-23T17:57:43.872184",
     "status": "completed"
    },
    "tags": []
   },
   "outputs": [],
   "source": [
    "data=data.drop([\"Loan_ID\"],axis=1)"
   ]
  },
  {
   "cell_type": "code",
   "execution_count": 10,
   "id": "7f4756d6",
   "metadata": {
    "execution": {
     "iopub.execute_input": "2022-08-23T17:57:43.924945Z",
     "iopub.status.busy": "2022-08-23T17:57:43.924220Z",
     "iopub.status.idle": "2022-08-23T17:57:43.941506Z",
     "shell.execute_reply": "2022-08-23T17:57:43.940698Z"
    },
    "id": "rAIzgz8r36nB",
    "outputId": "cacaaecf-e2ec-455c-dc91-a073c40e90ae",
    "papermill": {
     "duration": 0.034064,
     "end_time": "2022-08-23T17:57:43.943682",
     "exception": false,
     "start_time": "2022-08-23T17:57:43.909618",
     "status": "completed"
    },
    "tags": []
   },
   "outputs": [
    {
     "data": {
      "text/html": [
       "<div>\n",
       "<style scoped>\n",
       "    .dataframe tbody tr th:only-of-type {\n",
       "        vertical-align: middle;\n",
       "    }\n",
       "\n",
       "    .dataframe tbody tr th {\n",
       "        vertical-align: top;\n",
       "    }\n",
       "\n",
       "    .dataframe thead th {\n",
       "        text-align: right;\n",
       "    }\n",
       "</style>\n",
       "<table border=\"1\" class=\"dataframe\">\n",
       "  <thead>\n",
       "    <tr style=\"text-align: right;\">\n",
       "      <th></th>\n",
       "      <th>Gender</th>\n",
       "      <th>Married</th>\n",
       "      <th>Dependents</th>\n",
       "      <th>Education</th>\n",
       "      <th>Self_Employed</th>\n",
       "      <th>ApplicantIncome</th>\n",
       "      <th>CoapplicantIncome</th>\n",
       "      <th>LoanAmount</th>\n",
       "      <th>Loan_Amount_Term</th>\n",
       "      <th>Credit_History</th>\n",
       "      <th>Property_Area</th>\n",
       "      <th>Loan_Status</th>\n",
       "    </tr>\n",
       "  </thead>\n",
       "  <tbody>\n",
       "    <tr>\n",
       "      <th>1</th>\n",
       "      <td>Male</td>\n",
       "      <td>Yes</td>\n",
       "      <td>1</td>\n",
       "      <td>Graduate</td>\n",
       "      <td>No</td>\n",
       "      <td>4583</td>\n",
       "      <td>1508.0</td>\n",
       "      <td>128.0</td>\n",
       "      <td>360.0</td>\n",
       "      <td>1.0</td>\n",
       "      <td>Rural</td>\n",
       "      <td>N</td>\n",
       "    </tr>\n",
       "    <tr>\n",
       "      <th>2</th>\n",
       "      <td>Male</td>\n",
       "      <td>Yes</td>\n",
       "      <td>0</td>\n",
       "      <td>Graduate</td>\n",
       "      <td>Yes</td>\n",
       "      <td>3000</td>\n",
       "      <td>0.0</td>\n",
       "      <td>66.0</td>\n",
       "      <td>360.0</td>\n",
       "      <td>1.0</td>\n",
       "      <td>Urban</td>\n",
       "      <td>Y</td>\n",
       "    </tr>\n",
       "    <tr>\n",
       "      <th>3</th>\n",
       "      <td>Male</td>\n",
       "      <td>Yes</td>\n",
       "      <td>0</td>\n",
       "      <td>Not Graduate</td>\n",
       "      <td>No</td>\n",
       "      <td>2583</td>\n",
       "      <td>2358.0</td>\n",
       "      <td>120.0</td>\n",
       "      <td>360.0</td>\n",
       "      <td>1.0</td>\n",
       "      <td>Urban</td>\n",
       "      <td>Y</td>\n",
       "    </tr>\n",
       "    <tr>\n",
       "      <th>4</th>\n",
       "      <td>Male</td>\n",
       "      <td>No</td>\n",
       "      <td>0</td>\n",
       "      <td>Graduate</td>\n",
       "      <td>No</td>\n",
       "      <td>6000</td>\n",
       "      <td>0.0</td>\n",
       "      <td>141.0</td>\n",
       "      <td>360.0</td>\n",
       "      <td>1.0</td>\n",
       "      <td>Urban</td>\n",
       "      <td>Y</td>\n",
       "    </tr>\n",
       "    <tr>\n",
       "      <th>5</th>\n",
       "      <td>Male</td>\n",
       "      <td>Yes</td>\n",
       "      <td>2</td>\n",
       "      <td>Graduate</td>\n",
       "      <td>Yes</td>\n",
       "      <td>5417</td>\n",
       "      <td>4196.0</td>\n",
       "      <td>267.0</td>\n",
       "      <td>360.0</td>\n",
       "      <td>1.0</td>\n",
       "      <td>Urban</td>\n",
       "      <td>Y</td>\n",
       "    </tr>\n",
       "  </tbody>\n",
       "</table>\n",
       "</div>"
      ],
      "text/plain": [
       "  Gender Married Dependents     Education Self_Employed  ApplicantIncome  \\\n",
       "1   Male     Yes          1      Graduate            No             4583   \n",
       "2   Male     Yes          0      Graduate           Yes             3000   \n",
       "3   Male     Yes          0  Not Graduate            No             2583   \n",
       "4   Male      No          0      Graduate            No             6000   \n",
       "5   Male     Yes          2      Graduate           Yes             5417   \n",
       "\n",
       "   CoapplicantIncome  LoanAmount  Loan_Amount_Term  Credit_History  \\\n",
       "1             1508.0       128.0             360.0             1.0   \n",
       "2                0.0        66.0             360.0             1.0   \n",
       "3             2358.0       120.0             360.0             1.0   \n",
       "4                0.0       141.0             360.0             1.0   \n",
       "5             4196.0       267.0             360.0             1.0   \n",
       "\n",
       "  Property_Area Loan_Status  \n",
       "1         Rural           N  \n",
       "2         Urban           Y  \n",
       "3         Urban           Y  \n",
       "4         Urban           Y  \n",
       "5         Urban           Y  "
      ]
     },
     "execution_count": 10,
     "metadata": {},
     "output_type": "execute_result"
    }
   ],
   "source": [
    "data.head()"
   ]
  },
  {
   "cell_type": "markdown",
   "id": "cc175292",
   "metadata": {
    "id": "pe7F2pLs5mRW",
    "papermill": {
     "duration": 0.013425,
     "end_time": "2022-08-23T17:57:43.970515",
     "exception": false,
     "start_time": "2022-08-23T17:57:43.957090",
     "status": "completed"
    },
    "tags": []
   },
   "source": [
    "# Outliers"
   ]
  },
  {
   "cell_type": "code",
   "execution_count": 11,
   "id": "142946dc",
   "metadata": {
    "execution": {
     "iopub.execute_input": "2022-08-23T17:57:43.999018Z",
     "iopub.status.busy": "2022-08-23T17:57:43.998320Z",
     "iopub.status.idle": "2022-08-23T17:57:44.291657Z",
     "shell.execute_reply": "2022-08-23T17:57:44.290412Z"
    },
    "id": "rFIDiDs55uQh",
    "outputId": "b5881dbb-6dfb-44ee-b94a-c6d9b1d31802",
    "papermill": {
     "duration": 0.310476,
     "end_time": "2022-08-23T17:57:44.294187",
     "exception": false,
     "start_time": "2022-08-23T17:57:43.983711",
     "status": "completed"
    },
    "tags": []
   },
   "outputs": [
    {
     "data": {
      "text/plain": [
       "<AxesSubplot:>"
      ]
     },
     "execution_count": 11,
     "metadata": {},
     "output_type": "execute_result"
    },
    {
     "data": {
      "image/png": "[encoded data removed]",
      "text/plain": [
       "<Figure size 432x288 with 1 Axes>"
      ]
     },
     "metadata": {
      "needs_background": "light"
     },
     "output_type": "display_data"
    }
   ],
   "source": [
    "sns.boxplot(data=data,palette=\"rainbow\",orient='h')"
   ]
  },
  {
   "cell_type": "markdown",
   "id": "30a1202a",
   "metadata": {
    "id": "rwxWAi9A-rB7",
    "papermill": {
     "duration": 0.013742,
     "end_time": "2022-08-23T17:57:44.322290",
     "exception": false,
     "start_time": "2022-08-23T17:57:44.308548",
     "status": "completed"
    },
    "tags": []
   },
   "source": [
    "# Getting Lower and upper boundaries to eliminate the outliers"
   ]
  },
  {
   "cell_type": "code",
   "execution_count": 12,
   "id": "bd0d62e6",
   "metadata": {
    "execution": {
     "iopub.execute_input": "2022-08-23T17:57:44.352920Z",
     "iopub.status.busy": "2022-08-23T17:57:44.352470Z",
     "iopub.status.idle": "2022-08-23T17:57:44.362436Z",
     "shell.execute_reply": "2022-08-23T17:57:44.361103Z"
    },
    "id": "803Y_pdn9eco",
    "papermill": {
     "duration": 0.028794,
     "end_time": "2022-08-23T17:57:44.365156",
     "exception": false,
     "start_time": "2022-08-23T17:57:44.336362",
     "status": "completed"
    },
    "tags": []
   },
   "outputs": [],
   "source": [
    "q1=data[\"ApplicantIncome\"].quantile(0.25)\n",
    "q3=data[\"ApplicantIncome\"].quantile(0.75)\n",
    "\n",
    "IQR=q3-q1\n",
    "LowerBound=q1-(1.5*IQR)\n",
    "UpperBound=q3+(1.5*IQR)\n"
   ]
  },
  {
   "cell_type": "code",
   "execution_count": 13,
   "id": "2c53ecdd",
   "metadata": {
    "execution": {
     "iopub.execute_input": "2022-08-23T17:57:44.396025Z",
     "iopub.status.busy": "2022-08-23T17:57:44.395601Z",
     "iopub.status.idle": "2022-08-23T17:57:44.405318Z",
     "shell.execute_reply": "2022-08-23T17:57:44.404098Z"
    },
    "id": "f1HwVWxZ-2JO",
    "outputId": "fff4e7c8-842a-424c-c6f7-b7d5725c6db4",
    "papermill": {
     "duration": 0.028039,
     "end_time": "2022-08-23T17:57:44.407685",
     "exception": false,
     "start_time": "2022-08-23T17:57:44.379646",
     "status": "completed"
    },
    "tags": []
   },
   "outputs": [
    {
     "name": "stdout",
     "output_type": "stream",
     "text": [
      "5633.125\n"
     ]
    }
   ],
   "source": [
    "q1=data[\"CoapplicantIncome\"].quantile(0.25)\n",
    "q3=data[\"CoapplicantIncome\"].quantile(0.75)\n",
    "\n",
    "IQR=q3-q1\n",
    "UpperBoundCo=q3+(1.5*IQR)\n",
    "\n",
    "print(UpperBoundCo)"
   ]
  },
  {
   "cell_type": "markdown",
   "id": "9f658239",
   "metadata": {
    "id": "U-wJQK3X_fQS",
    "papermill": {
     "duration": 0.013625,
     "end_time": "2022-08-23T17:57:44.435164",
     "exception": false,
     "start_time": "2022-08-23T17:57:44.421539",
     "status": "completed"
    },
    "tags": []
   },
   "source": [
    "# Dropping the Outliers"
   ]
  },
  {
   "cell_type": "code",
   "execution_count": 14,
   "id": "544d6802",
   "metadata": {
    "execution": {
     "iopub.execute_input": "2022-08-23T17:57:44.464561Z",
     "iopub.status.busy": "2022-08-23T17:57:44.464155Z",
     "iopub.status.idle": "2022-08-23T17:57:44.476786Z",
     "shell.execute_reply": "2022-08-23T17:57:44.475809Z"
    },
    "id": "Xuaq_qnC_n5q",
    "outputId": "91e1111d-6a93-4bf2-c920-8f6ba1a44711",
    "papermill": {
     "duration": 0.030249,
     "end_time": "2022-08-23T17:57:44.479107",
     "exception": false,
     "start_time": "2022-08-23T17:57:44.448858",
     "status": "completed"
    },
    "tags": []
   },
   "outputs": [
    {
     "data": {
      "text/plain": [
       "480"
      ]
     },
     "execution_count": 14,
     "metadata": {},
     "output_type": "execute_result"
    }
   ],
   "source": [
    "data[\"ApplicantIncome\"]=data[\"ApplicantIncome\"].drop(data[(data.ApplicantIncome<LowerBound)& (data.ApplicantIncome>UpperBound) ].index)\n",
    "data[\"ApplicantIncome\"].shape[0]"
   ]
  },
  {
   "cell_type": "code",
   "execution_count": 15,
   "id": "7d8a5c5d",
   "metadata": {
    "execution": {
     "iopub.execute_input": "2022-08-23T17:57:44.508706Z",
     "iopub.status.busy": "2022-08-23T17:57:44.508321Z",
     "iopub.status.idle": "2022-08-23T17:57:44.517152Z",
     "shell.execute_reply": "2022-08-23T17:57:44.516218Z"
    },
    "id": "-55rpeLnBlrs",
    "outputId": "b9f43284-fc4c-45cd-949a-619dbd975afe",
    "papermill": {
     "duration": 0.026195,
     "end_time": "2022-08-23T17:57:44.519225",
     "exception": false,
     "start_time": "2022-08-23T17:57:44.493030",
     "status": "completed"
    },
    "tags": []
   },
   "outputs": [
    {
     "data": {
      "text/plain": [
       "480"
      ]
     },
     "execution_count": 15,
     "metadata": {},
     "output_type": "execute_result"
    }
   ],
   "source": [
    "data[\"CoapplicantIncome\"]=data[\"CoapplicantIncome\"].drop(data[(data.CoapplicantIncome>UpperBound) ].index)\n",
    "data[\"CoapplicantIncome\"].shape[0]"
   ]
  },
  {
   "cell_type": "markdown",
   "id": "d67cd046",
   "metadata": {
    "id": "qUZc8Dlgwfe9",
    "papermill": {
     "duration": 0.013726,
     "end_time": "2022-08-23T17:57:44.547684",
     "exception": false,
     "start_time": "2022-08-23T17:57:44.533958",
     "status": "completed"
    },
    "tags": []
   },
   "source": [
    "## Visualization"
   ]
  },
  {
   "cell_type": "markdown",
   "id": "214fae02",
   "metadata": {
    "id": "nR6TUs_9yYp0",
    "papermill": {
     "duration": 0.014067,
     "end_time": "2022-08-23T17:57:44.576943",
     "exception": false,
     "start_time": "2022-08-23T17:57:44.562876",
     "status": "completed"
    },
    "tags": []
   },
   "source": [
    "As the some of the data columns is categorial so we will use the count plot. \n",
    "Using hue as 'Loan status'as it our main target "
   ]
  },
  {
   "cell_type": "code",
   "execution_count": 16,
   "id": "9bee7646",
   "metadata": {
    "execution": {
     "iopub.execute_input": "2022-08-23T17:57:44.607776Z",
     "iopub.status.busy": "2022-08-23T17:57:44.607364Z",
     "iopub.status.idle": "2022-08-23T17:57:44.815252Z",
     "shell.execute_reply": "2022-08-23T17:57:44.813708Z"
    },
    "id": "fvlxfeqJw0Ku",
    "outputId": "f83f21b2-5588-4aa8-ee9b-42ec077e56d0",
    "papermill": {
     "duration": 0.227239,
     "end_time": "2022-08-23T17:57:44.818910",
     "exception": false,
     "start_time": "2022-08-23T17:57:44.591671",
     "status": "completed"
    },
    "tags": []
   },
   "outputs": [
    {
     "data": {
      "text/plain": [
       "<AxesSubplot:xlabel='Education', ylabel='count'>"
      ]
     },
     "execution_count": 16,
     "metadata": {},
     "output_type": "execute_result"
    },
    {
     "data": {
      "image/png": "[encoded data removed]",
      "text/plain": [
       "<Figure size 432x288 with 1 Axes>"
      ]
     },
     "metadata": {
      "needs_background": "light"
     },
     "output_type": "display_data"
    }
   ],
   "source": [
    "sns.countplot(x=\"Education\",hue='Loan_Status',data=data)"
   ]
  },
  {
   "cell_type": "code",
   "execution_count": 17,
   "id": "143d92f1",
   "metadata": {
    "execution": {
     "iopub.execute_input": "2022-08-23T17:57:44.849709Z",
     "iopub.status.busy": "2022-08-23T17:57:44.849281Z",
     "iopub.status.idle": "2022-08-23T17:57:45.050866Z",
     "shell.execute_reply": "2022-08-23T17:57:45.049790Z"
    },
    "id": "jkPperqc1W4U",
    "outputId": "989a4e80-c010-4d9f-e2e1-44805cc9e6d4",
    "papermill": {
     "duration": 0.220456,
     "end_time": "2022-08-23T17:57:45.053945",
     "exception": false,
     "start_time": "2022-08-23T17:57:44.833489",
     "status": "completed"
    },
    "tags": []
   },
   "outputs": [
    {
     "data": {
      "text/plain": [
       "<AxesSubplot:xlabel='Married', ylabel='count'>"
      ]
     },
     "execution_count": 17,
     "metadata": {},
     "output_type": "execute_result"
    },
    {
     "data": {
      "image/png": "[encoded data removed]",
      "text/plain": [
       "<Figure size 432x288 with 1 Axes>"
      ]
     },
     "metadata": {
      "needs_background": "light"
     },
     "output_type": "display_data"
    }
   ],
   "source": [
    "sns.countplot(x=\"Married\",hue='Loan_Status',data=data)"
   ]
  },
  {
   "cell_type": "markdown",
   "id": "6e8913aa",
   "metadata": {
    "id": "skEwH46L1j4j",
    "papermill": {
     "duration": 0.014368,
     "end_time": "2022-08-23T17:57:45.082914",
     "exception": false,
     "start_time": "2022-08-23T17:57:45.068546",
     "status": "completed"
    },
    "tags": []
   },
   "source": [
    "## Converting categorical columns into numerical values and replacing strings with numbe"
   ]
  },
  {
   "cell_type": "code",
   "execution_count": 18,
   "id": "7312bd63",
   "metadata": {
    "execution": {
     "iopub.execute_input": "2022-08-23T17:57:45.114366Z",
     "iopub.status.busy": "2022-08-23T17:57:45.113654Z",
     "iopub.status.idle": "2022-08-23T17:57:45.122240Z",
     "shell.execute_reply": "2022-08-23T17:57:45.121128Z"
    },
    "id": "XxVeoVHUqZRK",
    "outputId": "6dd53ef3-5a1b-4446-855b-0ec9643f2767",
    "papermill": {
     "duration": 0.027098,
     "end_time": "2022-08-23T17:57:45.124662",
     "exception": false,
     "start_time": "2022-08-23T17:57:45.097564",
     "status": "completed"
    },
    "tags": []
   },
   "outputs": [
    {
     "data": {
      "text/plain": [
       "0     274\n",
       "2      85\n",
       "1      80\n",
       "3+     41\n",
       "Name: Dependents, dtype: int64"
      ]
     },
     "execution_count": 18,
     "metadata": {},
     "output_type": "execute_result"
    }
   ],
   "source": [
    "#From data info 'dependants' column type is an object contains string (3+) so it will be replaced by a number\n",
    "data[\"Dependents\"].value_counts()"
   ]
  },
  {
   "cell_type": "code",
   "execution_count": 19,
   "id": "7efcca18",
   "metadata": {
    "execution": {
     "iopub.execute_input": "2022-08-23T17:57:45.157679Z",
     "iopub.status.busy": "2022-08-23T17:57:45.157240Z",
     "iopub.status.idle": "2022-08-23T17:57:45.168519Z",
     "shell.execute_reply": "2022-08-23T17:57:45.167465Z"
    },
    "id": "tOdFyc9mvwNC",
    "outputId": "e21300a6-f6b8-417b-ef31-7ed5cfb11a5e",
    "papermill": {
     "duration": 0.030297,
     "end_time": "2022-08-23T17:57:45.170764",
     "exception": false,
     "start_time": "2022-08-23T17:57:45.140467",
     "status": "completed"
    },
    "tags": []
   },
   "outputs": [
    {
     "data": {
      "text/plain": [
       "0    274\n",
       "2     85\n",
       "1     80\n",
       "4     41\n",
       "Name: Dependents, dtype: int64"
      ]
     },
     "execution_count": 19,
     "metadata": {},
     "output_type": "execute_result"
    }
   ],
   "source": [
    "data[\"Dependents\"]=np.where(data[\"Dependents\"]==\"0\",0,np.where(data[\"Dependents\"]==\"1\",1,np.where(data[\"Dependents\"]==\"2\",2,4)))\n",
    "data[\"Dependents\"].value_counts()"
   ]
  },
  {
   "cell_type": "code",
   "execution_count": 20,
   "id": "82e223ad",
   "metadata": {
    "execution": {
     "iopub.execute_input": "2022-08-23T17:57:45.202672Z",
     "iopub.status.busy": "2022-08-23T17:57:45.201993Z",
     "iopub.status.idle": "2022-08-23T17:57:45.224044Z",
     "shell.execute_reply": "2022-08-23T17:57:45.223238Z"
    },
    "id": "-1L9QoqUZjqx",
    "outputId": "5728b3f6-9f63-4400-878e-83d0d6cb9d04",
    "papermill": {
     "duration": 0.040502,
     "end_time": "2022-08-23T17:57:45.226191",
     "exception": false,
     "start_time": "2022-08-23T17:57:45.185689",
     "status": "completed"
    },
    "tags": []
   },
   "outputs": [
    {
     "data": {
      "text/html": [
       "<div>\n",
       "<style scoped>\n",
       "    .dataframe tbody tr th:only-of-type {\n",
       "        vertical-align: middle;\n",
       "    }\n",
       "\n",
       "    .dataframe tbody tr th {\n",
       "        vertical-align: top;\n",
       "    }\n",
       "\n",
       "    .dataframe thead th {\n",
       "        text-align: right;\n",
       "    }\n",
       "</style>\n",
       "<table border=\"1\" class=\"dataframe\">\n",
       "  <thead>\n",
       "    <tr style=\"text-align: right;\">\n",
       "      <th></th>\n",
       "      <th>Gender</th>\n",
       "      <th>Married</th>\n",
       "      <th>Dependents</th>\n",
       "      <th>Education</th>\n",
       "      <th>Self_Employed</th>\n",
       "      <th>ApplicantIncome</th>\n",
       "      <th>CoapplicantIncome</th>\n",
       "      <th>LoanAmount</th>\n",
       "      <th>Loan_Amount_Term</th>\n",
       "      <th>Credit_History</th>\n",
       "      <th>Property_Area</th>\n",
       "      <th>Loan_Status</th>\n",
       "    </tr>\n",
       "  </thead>\n",
       "  <tbody>\n",
       "    <tr>\n",
       "      <th>1</th>\n",
       "      <td>1</td>\n",
       "      <td>1</td>\n",
       "      <td>1</td>\n",
       "      <td>0</td>\n",
       "      <td>0</td>\n",
       "      <td>4583</td>\n",
       "      <td>1508.0</td>\n",
       "      <td>128.0</td>\n",
       "      <td>360.0</td>\n",
       "      <td>1.0</td>\n",
       "      <td>2</td>\n",
       "      <td>0</td>\n",
       "    </tr>\n",
       "    <tr>\n",
       "      <th>2</th>\n",
       "      <td>1</td>\n",
       "      <td>1</td>\n",
       "      <td>0</td>\n",
       "      <td>0</td>\n",
       "      <td>1</td>\n",
       "      <td>3000</td>\n",
       "      <td>0.0</td>\n",
       "      <td>66.0</td>\n",
       "      <td>360.0</td>\n",
       "      <td>1.0</td>\n",
       "      <td>1</td>\n",
       "      <td>1</td>\n",
       "    </tr>\n",
       "    <tr>\n",
       "      <th>3</th>\n",
       "      <td>1</td>\n",
       "      <td>1</td>\n",
       "      <td>0</td>\n",
       "      <td>1</td>\n",
       "      <td>0</td>\n",
       "      <td>2583</td>\n",
       "      <td>2358.0</td>\n",
       "      <td>120.0</td>\n",
       "      <td>360.0</td>\n",
       "      <td>1.0</td>\n",
       "      <td>1</td>\n",
       "      <td>1</td>\n",
       "    </tr>\n",
       "    <tr>\n",
       "      <th>4</th>\n",
       "      <td>1</td>\n",
       "      <td>0</td>\n",
       "      <td>0</td>\n",
       "      <td>0</td>\n",
       "      <td>0</td>\n",
       "      <td>6000</td>\n",
       "      <td>0.0</td>\n",
       "      <td>141.0</td>\n",
       "      <td>360.0</td>\n",
       "      <td>1.0</td>\n",
       "      <td>1</td>\n",
       "      <td>1</td>\n",
       "    </tr>\n",
       "    <tr>\n",
       "      <th>5</th>\n",
       "      <td>1</td>\n",
       "      <td>1</td>\n",
       "      <td>2</td>\n",
       "      <td>0</td>\n",
       "      <td>1</td>\n",
       "      <td>5417</td>\n",
       "      <td>4196.0</td>\n",
       "      <td>267.0</td>\n",
       "      <td>360.0</td>\n",
       "      <td>1.0</td>\n",
       "      <td>1</td>\n",
       "      <td>1</td>\n",
       "    </tr>\n",
       "  </tbody>\n",
       "</table>\n",
       "</div>"
      ],
      "text/plain": [
       "   Gender  Married  Dependents  Education  Self_Employed  ApplicantIncome  \\\n",
       "1       1        1           1          0              0             4583   \n",
       "2       1        1           0          0              1             3000   \n",
       "3       1        1           0          1              0             2583   \n",
       "4       1        0           0          0              0             6000   \n",
       "5       1        1           2          0              1             5417   \n",
       "\n",
       "   CoapplicantIncome  LoanAmount  Loan_Amount_Term  Credit_History  \\\n",
       "1             1508.0       128.0             360.0             1.0   \n",
       "2                0.0        66.0             360.0             1.0   \n",
       "3             2358.0       120.0             360.0             1.0   \n",
       "4                0.0       141.0             360.0             1.0   \n",
       "5             4196.0       267.0             360.0             1.0   \n",
       "\n",
       "   Property_Area  Loan_Status  \n",
       "1              2            0  \n",
       "2              1            1  \n",
       "3              1            1  \n",
       "4              1            1  \n",
       "5              1            1  "
      ]
     },
     "execution_count": 20,
     "metadata": {},
     "output_type": "execute_result"
    }
   ],
   "source": [
    "data[\"Gender\"]=np.where(data[\"Gender\"]==\"Female\",0,1)\n",
    "data[\"Married\"]=np.where(data[\"Married\"]==\"No\",0,1)\n",
    "data[\"Property_Area\"]=np.where(data[\"Property_Area\"]==\"Urban\",1,np.where(data[\"Property_Area\"]==\"Rural\",2,3))\n",
    "data[\"Self_Employed\"]=np.where(data[\"Self_Employed\"]==\"Yes\",1,0)\n",
    "data[\"Education\"]=np.where(data[\"Education\"]==\"Graduate\",0,1)\n",
    "data[\"Loan_Status\"]=np.where(data[\"Loan_Status\"]==\"Y\",1,0)\n",
    "\n",
    "data.head()"
   ]
  },
  {
   "cell_type": "code",
   "execution_count": 21,
   "id": "096af240",
   "metadata": {
    "execution": {
     "iopub.execute_input": "2022-08-23T17:57:45.259441Z",
     "iopub.status.busy": "2022-08-23T17:57:45.258687Z",
     "iopub.status.idle": "2022-08-23T17:57:45.273914Z",
     "shell.execute_reply": "2022-08-23T17:57:45.271631Z"
    },
    "id": "bl-fOLPlIapM",
    "outputId": "311b8eb6-4c1f-44b5-b5c1-75f29869fbcd",
    "papermill": {
     "duration": 0.035873,
     "end_time": "2022-08-23T17:57:45.277523",
     "exception": false,
     "start_time": "2022-08-23T17:57:45.241650",
     "status": "completed"
    },
    "tags": []
   },
   "outputs": [
    {
     "name": "stdout",
     "output_type": "stream",
     "text": [
      "<class 'pandas.core.frame.DataFrame'>\n",
      "Int64Index: 480 entries, 1 to 613\n",
      "Data columns (total 12 columns):\n",
      " #   Column             Non-Null Count  Dtype  \n",
      "---  ------             --------------  -----  \n",
      " 0   Gender             480 non-null    int64  \n",
      " 1   Married            480 non-null    int64  \n",
      " 2   Dependents         480 non-null    int64  \n",
      " 3   Education          480 non-null    int64  \n",
      " 4   Self_Employed      480 non-null    int64  \n",
      " 5   ApplicantIncome    480 non-null    int64  \n",
      " 6   CoapplicantIncome  475 non-null    float64\n",
      " 7   LoanAmount         480 non-null    float64\n",
      " 8   Loan_Amount_Term   480 non-null    float64\n",
      " 9   Credit_History     480 non-null    float64\n",
      " 10  Property_Area      480 non-null    int64  \n",
      " 11  Loan_Status        480 non-null    int64  \n",
      "dtypes: float64(4), int64(8)\n",
      "memory usage: 64.9 KB\n"
     ]
    }
   ],
   "source": [
    "data.info()"
   ]
  },
  {
   "cell_type": "code",
   "execution_count": 22,
   "id": "6336c4ca",
   "metadata": {
    "execution": {
     "iopub.execute_input": "2022-08-23T17:57:45.311392Z",
     "iopub.status.busy": "2022-08-23T17:57:45.310588Z",
     "iopub.status.idle": "2022-08-23T17:57:45.318509Z",
     "shell.execute_reply": "2022-08-23T17:57:45.317576Z"
    },
    "id": "PD-AjUCbU6QN",
    "papermill": {
     "duration": 0.027196,
     "end_time": "2022-08-23T17:57:45.321048",
     "exception": false,
     "start_time": "2022-08-23T17:57:45.293852",
     "status": "completed"
    },
    "tags": []
   },
   "outputs": [],
   "source": [
    "data=data.dropna()"
   ]
  },
  {
   "cell_type": "markdown",
   "id": "74f5b9ad",
   "metadata": {
    "id": "PPQ2HA7s2ZYM",
    "papermill": {
     "duration": 0.014949,
     "end_time": "2022-08-23T17:57:45.381766",
     "exception": false,
     "start_time": "2022-08-23T17:57:45.366817",
     "status": "completed"
    },
    "tags": []
   },
   "source": [
    "Splitting Data into X(Features) and Y(Target Prediction)"
   ]
  },
  {
   "cell_type": "code",
   "execution_count": 23,
   "id": "d399406d",
   "metadata": {
    "execution": {
     "iopub.execute_input": "2022-08-23T17:57:45.415045Z",
     "iopub.status.busy": "2022-08-23T17:57:45.413986Z",
     "iopub.status.idle": "2022-08-23T17:57:45.421005Z",
     "shell.execute_reply": "2022-08-23T17:57:45.419748Z"
    },
    "id": "yHuUEL5ejU-i",
    "papermill": {
     "duration": 0.02657,
     "end_time": "2022-08-23T17:57:45.423591",
     "exception": false,
     "start_time": "2022-08-23T17:57:45.397021",
     "status": "completed"
    },
    "tags": []
   },
   "outputs": [],
   "source": [
    "X=data.drop(columns=['Loan_Status'],axis=1)\n",
    "Y=data[\"Loan_Status\"]"
   ]
  },
  {
   "cell_type": "code",
   "execution_count": 24,
   "id": "3067d738",
   "metadata": {
    "execution": {
     "iopub.execute_input": "2022-08-23T17:57:45.457201Z",
     "iopub.status.busy": "2022-08-23T17:57:45.456051Z",
     "iopub.status.idle": "2022-08-23T17:57:45.464928Z",
     "shell.execute_reply": "2022-08-23T17:57:45.463578Z"
    },
    "id": "9t8pFcJ_nJA3",
    "outputId": "67fddf9e-c183-494e-8551-51fc6d8bc577",
    "papermill": {
     "duration": 0.029117,
     "end_time": "2022-08-23T17:57:45.468373",
     "exception": false,
     "start_time": "2022-08-23T17:57:45.439256",
     "status": "completed"
    },
    "tags": []
   },
   "outputs": [
    {
     "name": "stdout",
     "output_type": "stream",
     "text": [
      "Gender                 int64\n",
      "Married                int64\n",
      "Dependents             int64\n",
      "Education              int64\n",
      "Self_Employed          int64\n",
      "ApplicantIncome        int64\n",
      "CoapplicantIncome    float64\n",
      "LoanAmount           float64\n",
      "Loan_Amount_Term     float64\n",
      "Credit_History       float64\n",
      "Property_Area          int64\n",
      "dtype: object\n",
      "1      0\n",
      "2      1\n",
      "3      1\n",
      "4      1\n",
      "5      1\n",
      "      ..\n",
      "609    1\n",
      "610    1\n",
      "611    1\n",
      "612    1\n",
      "613    0\n",
      "Name: Loan_Status, Length: 475, dtype: int64\n"
     ]
    }
   ],
   "source": [
    "print(X.dtypes)\n",
    "print(Y)"
   ]
  },
  {
   "cell_type": "markdown",
   "id": "671e8b38",
   "metadata": {
    "id": "cSw_JYOr4Thv",
    "papermill": {
     "duration": 0.01514,
     "end_time": "2022-08-23T17:57:45.499709",
     "exception": false,
     "start_time": "2022-08-23T17:57:45.484569",
     "status": "completed"
    },
    "tags": []
   },
   "source": [
    "## Splitting the dataset into the Training set and Test set"
   ]
  },
  {
   "cell_type": "code",
   "execution_count": 25,
   "id": "04fa449d",
   "metadata": {
    "execution": {
     "iopub.execute_input": "2022-08-23T17:57:45.532986Z",
     "iopub.status.busy": "2022-08-23T17:57:45.532183Z",
     "iopub.status.idle": "2022-08-23T17:57:45.541156Z",
     "shell.execute_reply": "2022-08-23T17:57:45.539506Z"
    },
    "id": "Mo86fj8fnJA3",
    "outputId": "fbfc92d6-be6d-4e3b-8a60-452dff6f36de",
    "papermill": {
     "duration": 0.028779,
     "end_time": "2022-08-23T17:57:45.543874",
     "exception": false,
     "start_time": "2022-08-23T17:57:45.515095",
     "status": "completed"
    },
    "tags": []
   },
   "outputs": [
    {
     "name": "stdout",
     "output_type": "stream",
     "text": [
      "(475, 11) (356, 11) (119, 11)\n"
     ]
    }
   ],
   "source": [
    "X_train, X_test, y_train, y_test = train_test_split(X, Y, test_size = 0.25, random_state = 41)\n",
    "print(X.shape,X_train.shape,X_test.shape)"
   ]
  },
  {
   "cell_type": "code",
   "execution_count": 26,
   "id": "e0169844",
   "metadata": {
    "execution": {
     "iopub.execute_input": "2022-08-23T17:57:45.579212Z",
     "iopub.status.busy": "2022-08-23T17:57:45.577840Z",
     "iopub.status.idle": "2022-08-23T17:57:45.607445Z",
     "shell.execute_reply": "2022-08-23T17:57:45.606001Z"
    },
    "id": "FoOvxq7IRFJ9",
    "outputId": "fc8449a5-a19c-4be0-d48f-96a6d0e8539a",
    "papermill": {
     "duration": 0.049619,
     "end_time": "2022-08-23T17:57:45.610012",
     "exception": false,
     "start_time": "2022-08-23T17:57:45.560393",
     "status": "completed"
    },
    "tags": []
   },
   "outputs": [
    {
     "data": {
      "text/plain": [
       "LogisticRegression(random_state=0)"
      ]
     },
     "execution_count": 26,
     "metadata": {},
     "output_type": "execute_result"
    }
   ],
   "source": [
    "# Feature Scaling\n",
    "from sklearn.preprocessing import StandardScaler\n",
    "sc = StandardScaler()\n",
    "X_train = sc.fit_transform(X_train)\n",
    "X_test = sc.transform(X_test)\n",
    "\n",
    "#Fitting Logistic Regression to the Training set\n",
    "classifier = LogisticRegression(random_state = 0)\n",
    "classifier.fit(X_train, y_train)"
   ]
  },
  {
   "cell_type": "code",
   "execution_count": 27,
   "id": "8a8af97c",
   "metadata": {
    "execution": {
     "iopub.execute_input": "2022-08-23T17:57:45.676407Z",
     "iopub.status.busy": "2022-08-23T17:57:45.675539Z",
     "iopub.status.idle": "2022-08-23T17:57:45.690802Z",
     "shell.execute_reply": "2022-08-23T17:57:45.689236Z"
    },
    "id": "AIijpvD2npZs",
    "outputId": "75f65f29-cb42-40e2-a322-1e4a2069e2d2",
    "papermill": {
     "duration": 0.035861,
     "end_time": "2022-08-23T17:57:45.694092",
     "exception": false,
     "start_time": "2022-08-23T17:57:45.658231",
     "status": "completed"
    },
    "tags": []
   },
   "outputs": [
    {
     "name": "stdout",
     "output_type": "stream",
     "text": [
      "              precision    recall  f1-score   support\n",
      "\n",
      "           0       0.69      0.41      0.51        27\n",
      "           1       0.84      0.95      0.89        92\n",
      "\n",
      "    accuracy                           0.82       119\n",
      "   macro avg       0.77      0.68      0.70       119\n",
      "weighted avg       0.81      0.82      0.81       119\n",
      "\n"
     ]
    }
   ],
   "source": [
    "y_pred = classifier.predict(X_test)\n",
    "\n",
    "# Making the Confusion Matrix\n",
    "from sklearn.metrics import confusion_matrix\n",
    "cm = confusion_matrix(y_test, y_pred)\n",
    "from sklearn.metrics import classification_report\n",
    "cr=classification_report(y_test, y_pred)\n",
    "print(cr)"
   ]
  },
  {
   "cell_type": "markdown",
   "id": "a64d71e5",
   "metadata": {
    "id": "IY3I9qM_WW_R",
    "papermill": {
     "duration": 0.015494,
     "end_time": "2022-08-23T17:57:45.725881",
     "exception": false,
     "start_time": "2022-08-23T17:57:45.710387",
     "status": "completed"
    },
    "tags": []
   },
   "source": [
    "## SVM"
   ]
  },
  {
   "cell_type": "code",
   "execution_count": 28,
   "id": "ef618760",
   "metadata": {
    "execution": {
     "iopub.execute_input": "2022-08-23T17:57:45.760127Z",
     "iopub.status.busy": "2022-08-23T17:57:45.758763Z",
     "iopub.status.idle": "2022-08-23T17:57:45.770300Z",
     "shell.execute_reply": "2022-08-23T17:57:45.769371Z"
    },
    "id": "9PuVd2IQWaqC",
    "outputId": "2a9fd7cc-8824-4145-dc42-77a986ad6baf",
    "papermill": {
     "duration": 0.031063,
     "end_time": "2022-08-23T17:57:45.772667",
     "exception": false,
     "start_time": "2022-08-23T17:57:45.741604",
     "status": "completed"
    },
    "tags": []
   },
   "outputs": [
    {
     "data": {
      "text/plain": [
       "SVC(kernel='linear')"
      ]
     },
     "execution_count": 28,
     "metadata": {},
     "output_type": "execute_result"
    }
   ],
   "source": [
    "classifier=svm.SVC(kernel='linear')\n",
    "classifier.fit(X_train,y_train)"
   ]
  },
  {
   "cell_type": "code",
   "execution_count": 29,
   "id": "4becad4e",
   "metadata": {
    "execution": {
     "iopub.execute_input": "2022-08-23T17:57:45.808220Z",
     "iopub.status.busy": "2022-08-23T17:57:45.807085Z",
     "iopub.status.idle": "2022-08-23T17:57:45.817639Z",
     "shell.execute_reply": "2022-08-23T17:57:45.815814Z"
    },
    "id": "NQkjEBCDWz0y",
    "outputId": "4eb21c3a-5e8d-49ee-dc86-bd24e0c7419c",
    "papermill": {
     "duration": 0.031379,
     "end_time": "2022-08-23T17:57:45.820435",
     "exception": false,
     "start_time": "2022-08-23T17:57:45.789056",
     "status": "completed"
    },
    "tags": []
   },
   "outputs": [
    {
     "name": "stdout",
     "output_type": "stream",
     "text": [
      "80.0561797752809\n"
     ]
    }
   ],
   "source": [
    "X_train_prediction=classifier.predict(X_train)\n",
    "training_Accuaray=accuracy_score(X_train_prediction,y_train)\n",
    "print(training_Accuaray * 100)"
   ]
  },
  {
   "cell_type": "code",
   "execution_count": 30,
   "id": "7918657b",
   "metadata": {
    "execution": {
     "iopub.execute_input": "2022-08-23T17:57:45.855819Z",
     "iopub.status.busy": "2022-08-23T17:57:45.855006Z",
     "iopub.status.idle": "2022-08-23T17:57:45.863418Z",
     "shell.execute_reply": "2022-08-23T17:57:45.861885Z"
    },
    "id": "U8kR-8zSXa5p",
    "outputId": "5ed4d046-da9c-4a1c-a5f8-452e2108a094",
    "papermill": {
     "duration": 0.029097,
     "end_time": "2022-08-23T17:57:45.865992",
     "exception": false,
     "start_time": "2022-08-23T17:57:45.836895",
     "status": "completed"
    },
    "tags": []
   },
   "outputs": [
    {
     "name": "stdout",
     "output_type": "stream",
     "text": [
      "Accuracy : 84.87394957983193\n"
     ]
    }
   ],
   "source": [
    "X_test_prediction=classifier.predict(X_test)\n",
    "test_Accuaray=accuracy_score(X_test_prediction,y_test)\n",
    "print(\"Accuracy :\",test_Accuaray * 100)"
   ]
  },
  {
   "cell_type": "markdown",
   "id": "a004c55b",
   "metadata": {
    "id": "SrO-2UCiYNyO",
    "papermill": {
     "duration": 0.016262,
     "end_time": "2022-08-23T17:57:45.898285",
     "exception": false,
     "start_time": "2022-08-23T17:57:45.882023",
     "status": "completed"
    },
    "tags": []
   },
   "source": [
    "## Decision Tree"
   ]
  },
  {
   "cell_type": "code",
   "execution_count": 31,
   "id": "482b15db",
   "metadata": {
    "execution": {
     "iopub.execute_input": "2022-08-23T17:57:45.933935Z",
     "iopub.status.busy": "2022-08-23T17:57:45.933504Z",
     "iopub.status.idle": "2022-08-23T17:57:45.944092Z",
     "shell.execute_reply": "2022-08-23T17:57:45.942672Z"
    },
    "id": "jqNZPek-X2pI",
    "outputId": "fc899d96-c5f5-4f46-9d44-584956b26e63",
    "papermill": {
     "duration": 0.03153,
     "end_time": "2022-08-23T17:57:45.947087",
     "exception": false,
     "start_time": "2022-08-23T17:57:45.915557",
     "status": "completed"
    },
    "tags": []
   },
   "outputs": [
    {
     "name": "stdout",
     "output_type": "stream",
     "text": [
      "81.5126050420168\n"
     ]
    }
   ],
   "source": [
    "clf = DecisionTreeClassifier(max_depth = 3 , criterion = 'entropy', random_state = 0)\n",
    "clf = clf.fit(X_train,y_train)\n",
    "# Model Accuracy, how often is the classifier correct?\n",
    "print(clf.score(X_test, y_test) * 100)"
   ]
  },
  {
   "cell_type": "markdown",
   "id": "27b4e2af",
   "metadata": {
    "id": "_plpEgWsZwV_",
    "papermill": {
     "duration": 0.015647,
     "end_time": "2022-08-23T17:57:45.979492",
     "exception": false,
     "start_time": "2022-08-23T17:57:45.963845",
     "status": "completed"
    },
    "tags": []
   },
   "source": [
    "## KNN"
   ]
  },
  {
   "cell_type": "code",
   "execution_count": 32,
   "id": "9eaeec0f",
   "metadata": {
    "execution": {
     "iopub.execute_input": "2022-08-23T17:57:46.015451Z",
     "iopub.status.busy": "2022-08-23T17:57:46.014238Z",
     "iopub.status.idle": "2022-08-23T17:57:46.027685Z",
     "shell.execute_reply": "2022-08-23T17:57:46.026425Z"
    },
    "id": "S4aU5y6cZxs2",
    "outputId": "84951b0d-2dc0-43d9-9bd0-81b850b5d428",
    "papermill": {
     "duration": 0.034561,
     "end_time": "2022-08-23T17:57:46.030169",
     "exception": false,
     "start_time": "2022-08-23T17:57:45.995608",
     "status": "completed"
    },
    "tags": []
   },
   "outputs": [
    {
     "name": "stdout",
     "output_type": "stream",
     "text": [
      "76.47058823529412\n"
     ]
    }
   ],
   "source": [
    "knn = KNeighborsClassifier(n_neighbors=3)\n",
    "\n",
    "knn.fit(X_train, y_train)\n",
    "\n",
    "# Calculate the accuracy of the model\n",
    "print(knn.score(X_test, y_test) * 100)"
   ]
  },
  {
   "cell_type": "markdown",
   "id": "3bd54384",
   "metadata": {
    "id": "0JDn0Zt7FY3E",
    "papermill": {
     "duration": 0.015674,
     "end_time": "2022-08-23T17:57:46.062615",
     "exception": false,
     "start_time": "2022-08-23T17:57:46.046941",
     "status": "completed"
    },
    "tags": []
   },
   "source": [
    "**We calculated the accuracy with different models and we found that the highest accuracy was 84.87394957983193 in SVM model**"
   ]
  },
  {
   "cell_type": "markdown",
   "id": "1c64890e",
   "metadata": {
    "id": "9ohGehKNtCbX",
    "papermill": {
     "duration": 0.016207,
     "end_time": "2022-08-23T17:57:46.094866",
     "exception": false,
     "start_time": "2022-08-23T17:57:46.078659",
     "status": "completed"
    },
    "tags": []
   },
   "source": [
    "The percentage of married people in\n",
    "semiurban area that obtained the loan"
   ]
  },
  {
   "cell_type": "code",
   "execution_count": 33,
   "id": "7bf6ebe1",
   "metadata": {
    "execution": {
     "iopub.execute_input": "2022-08-23T17:57:46.128902Z",
     "iopub.status.busy": "2022-08-23T17:57:46.128123Z",
     "iopub.status.idle": "2022-08-23T17:57:46.136707Z",
     "shell.execute_reply": "2022-08-23T17:57:46.135800Z"
    },
    "id": "r34n-JjPtr_E",
    "outputId": "d30bf1e0-d125-4b07-b51f-f8598cfce0c9",
    "papermill": {
     "duration": 0.028079,
     "end_time": "2022-08-23T17:57:46.138881",
     "exception": false,
     "start_time": "2022-08-23T17:57:46.110802",
     "status": "completed"
    },
    "tags": []
   },
   "outputs": [
    {
     "data": {
      "text/plain": [
       "103"
      ]
     },
     "execution_count": 33,
     "metadata": {},
     "output_type": "execute_result"
    }
   ],
   "source": [
    "Married_semiUrban=data.loc[(data[\"Married\"]==1)&(data[\"Property_Area\"]==3)&(data[\"Loan_Status\"]==1)]\n",
    "len(Married_semiUrban.index)"
   ]
  },
  {
   "cell_type": "code",
   "execution_count": 34,
   "id": "2b451e16",
   "metadata": {
    "execution": {
     "iopub.execute_input": "2022-08-23T17:57:46.174341Z",
     "iopub.status.busy": "2022-08-23T17:57:46.173587Z",
     "iopub.status.idle": "2022-08-23T17:57:46.181140Z",
     "shell.execute_reply": "2022-08-23T17:57:46.180066Z"
    },
    "id": "mFBhrCwVwL7I",
    "outputId": "6dbd23bb-fd96-43ef-bff5-aa0e2932f5af",
    "papermill": {
     "duration": 0.027583,
     "end_time": "2022-08-23T17:57:46.183403",
     "exception": false,
     "start_time": "2022-08-23T17:57:46.155820",
     "status": "completed"
    },
    "tags": []
   },
   "outputs": [
    {
     "data": {
      "text/plain": [
       "331"
      ]
     },
     "execution_count": 34,
     "metadata": {},
     "output_type": "execute_result"
    }
   ],
   "source": [
    "LoanStatus=data.loc[(data[\"Loan_Status\"]==1)]\n",
    "len(LoanStatus)"
   ]
  }
 ],
 "metadata": {
  "kernelspec": {
   "display_name": "Python 3",
   "language": "python",
   "name": "python3"
  },
  "language_info": {
   "codemirror_mode": {
    "name": "ipython",
    "version": 3
   },
   "file_extension": ".py",
   "mimetype": "text/x-python",
   "name": "python",
   "nbconvert_exporter": "python",
   "pygments_lexer": "ipython3",
   "version": "3.8.8"
  },
  "papermill": {
   "default_parameters": {},
   "duration": 15.129323,
   "end_time": "2022-08-23T17:57:47.086586",
   "environment_variables": {},
   "exception": null,
   "input_path": "__notebook__.ipynb",
   "output_path": "__notebook__.ipynb",
   "parameters": {},
   "start_time": "2022-08-23T17:57:31.957263",
   "version": "2.3.4"
  }
 },
 "nbformat": 4,
 "nbformat_minor": 5
}
